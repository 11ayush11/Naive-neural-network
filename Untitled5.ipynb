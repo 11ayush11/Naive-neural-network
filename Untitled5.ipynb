{
 "cells": [
  {
   "cell_type": "code",
   "execution_count": 19,
   "metadata": {},
   "outputs": [
    {
     "name": "stdout",
     "output_type": "stream",
     "text": [
      "(1000, 784)\n",
      "[ 1.  0.  0.  0.  0.  0.  0.  0.  0.  0.]\n",
      "Epoch 1/5\n",
      "937/937 [==============================] - 643s 686ms/step - loss: 0.1013 - acc: 0.9681 - val_loss: 0.0649 - val_acc: 0.9819\n",
      "Epoch 2/5\n",
      "937/937 [==============================] - 591s 630ms/step - loss: 0.0226 - acc: 0.9928 - val_loss: 0.0552 - val_acc: 0.9847\n",
      "Epoch 3/5\n",
      "937/937 [==============================] - 603s 643ms/step - loss: 0.0178 - acc: 0.9941 - val_loss: 0.0491 - val_acc: 0.9870\n",
      "Epoch 4/5\n",
      "937/937 [==============================] - 593s 633ms/step - loss: 0.0128 - acc: 0.9958 - val_loss: 0.0943 - val_acc: 0.9799\n",
      "Epoch 5/5\n",
      "937/937 [==============================] - 590s 630ms/step - loss: 0.0113 - acc: 0.9963 - val_loss: 0.0580 - val_acc: 0.9871\n"
     ]
    },
    {
     "data": {
      "text/plain": [
       "<keras.callbacks.History at 0x1e8819af9b0>"
      ]
     },
     "execution_count": 19,
     "metadata": {},
     "output_type": "execute_result"
    }
   ],
   "source": [
    "import pandas as pd\n",
    "import numpy as np\n",
    "from sklearn.model_selection import train_test_split\n",
    "labeled_images = pd.read_csv('G:/ml/mnist/train.csv')\n",
    "images = labeled_images.iloc[0:5000,1:]\n",
    "labels = labeled_images.iloc[0:5000,:1]\n",
    "X_train, Y_test,X_labels, Y_labels = train_test_split(images, labels, train_size=0.8,test_size=0.2, random_state=20)\n",
    "print (Y_test.shape)\n",
    "import numpy as np\n",
    "import pandas as pd\n",
    "import matplotlib.pyplot as plt\n",
    "%matplotlib inline\n",
    "from keras.models import Sequential\n",
    "from keras.layers import Dense, Dropout, Activation, Flatten\n",
    "from keras.optimizers import Adam\n",
    "from keras.layers.normalization import BatchNormalization\n",
    "from keras.utils import np_utils\n",
    "from keras.layers import Conv2D, MaxPooling2D, ZeroPadding2D, GlobalAveragePooling2D\n",
    "from keras.layers.advanced_activations import LeakyReLU \n",
    "from keras.preprocessing.image import ImageDataGenerator\n",
    "img=X_train.iloc[:,:].as_matrix()\n",
    "img=img.reshape((4000,28,28,1))\n",
    "X_train = img\n",
    "img=Y_test.iloc[:,:].as_matrix()\n",
    "img=img.reshape((1000,28,28,1))\n",
    "Y_test = img\n",
    "X_train = X_train.astype('float32')\n",
    "Y_test = Y_test.astype('float32')\n",
    "X_train/=255\n",
    "Y_test/=255\n",
    "number_of_classes = 10\n",
    "\n",
    "X_labels = np_utils.to_categorical(X_labels, number_of_classes)\n",
    "Y_labels = np_utils.to_categorical(Y_labels, number_of_classes)\n",
    "print (X_labels[0])\n",
    "model = Sequential()\n",
    "\n",
    "model.add(Conv2D(32, (3, 3), input_shape=(28,28,1)))\n",
    "model.add(BatchNormalization(axis=-1))\n",
    "model.add(Activation('relu'))\n",
    "model.add(Conv2D(32, (3, 3)))\n",
    "model.add(BatchNormalization(axis=-1))\n",
    "model.add(Activation('relu'))\n",
    "model.add(MaxPooling2D(pool_size=(2,2)))\n",
    "\n",
    "model.add(Conv2D(64,(3, 3)))\n",
    "model.add(BatchNormalization(axis=-1))\n",
    "model.add(Activation('relu'))\n",
    "model.add(Conv2D(64, (3, 3)))\n",
    "model.add(BatchNormalization(axis=-1))\n",
    "model.add(Activation('relu'))\n",
    "model.add(MaxPooling2D(pool_size=(2,2)))\n",
    "\n",
    "model.add(Flatten())\n",
    "\n",
    "# Fully connected layer\n",
    "model.add(Dense(512))\n",
    "model.add(BatchNormalization())\n",
    "model.add(Activation('relu'))\n",
    "model.add(Dropout(0.2))\n",
    "model.add(Dense(10))\n",
    "\n",
    "model.add(Activation('softmax'))\n",
    "model.compile(loss='categorical_crossentropy', optimizer=Adam(), metrics=['accuracy'])\n",
    "gen = ImageDataGenerator(rotation_range=8, width_shift_range=0.08, shear_range=0.3,\n",
    "                         height_shift_range=0.08, zoom_range=0.08)\n",
    "\n",
    "test_gen = ImageDataGenerator()\n",
    "train_generator = gen.flow(X_train, X_labels, batch_size=64)\n",
    "test_generator = test_gen.flow(Y_test, Y_labels, batch_size=64)\n",
    "model.fit_generator(train_generator, steps_per_epoch=60000//64, epochs=5, \n",
    "                    validation_data=test_generator, validation_steps=10000//64)\n"
   ]
  }
 ],
 "metadata": {
  "kernelspec": {
   "display_name": "Python 3",
   "language": "python",
   "name": "python3"
  },
  "language_info": {
   "codemirror_mode": {
    "name": "ipython",
    "version": 3
   },
   "file_extension": ".py",
   "mimetype": "text/x-python",
   "name": "python",
   "nbconvert_exporter": "python",
   "pygments_lexer": "ipython3",
   "version": "3.6.0"
  }
 },
 "nbformat": 4,
 "nbformat_minor": 2
}
